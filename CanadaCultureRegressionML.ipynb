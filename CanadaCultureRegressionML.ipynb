{
 "cells": [
  {
   "cell_type": "markdown",
   "id": "db755773",
   "metadata": {},
   "source": [
    "# Machine Learning"
   ]
  },
  {
   "cell_type": "code",
   "execution_count": 481,
   "id": "7067f1fe",
   "metadata": {},
   "outputs": [],
   "source": [
    "import pandas as pd\n",
    "from pathlib import Path\n",
    "import matplotlib.pyplot as plt\n",
    "from sklearn.model_selection import train_test_split\n",
    "from sklearn.preprocessing import StandardScaler, LabelEncoder\n",
    "from sklearn.linear_model import LinearRegression, SGDRegressor, Ridge, Lasso, ElasticNet\n",
    "from sklearn.linear_model import LogisticRegression\n",
    "from sklearn.ensemble import RandomForestClassifier\n",
    "from sklearn.pipeline import make_pipeline\n",
    "from sklearn.metrics import mean_squared_error, r2_score\n",
    "from sklearn.feature_selection import SelectFromModel\n",
    "from sklearn.metrics import confusion_matrix, accuracy_score, classification_report\n",
    "\n",
    "import seaborn as sn\n",
    "import numpy as np"
   ]
  },
  {
   "cell_type": "code",
   "execution_count": 482,
   "id": "5acd7509",
   "metadata": {
    "scrolled": false
   },
   "outputs": [
    {
     "data": {
      "text/html": [
       "<div>\n",
       "<style scoped>\n",
       "    .dataframe tbody tr th:only-of-type {\n",
       "        vertical-align: middle;\n",
       "    }\n",
       "\n",
       "    .dataframe tbody tr th {\n",
       "        vertical-align: top;\n",
       "    }\n",
       "\n",
       "    .dataframe thead th {\n",
       "        text-align: right;\n",
       "    }\n",
       "</style>\n",
       "<table border=\"1\" class=\"dataframe\">\n",
       "  <thead>\n",
       "    <tr style=\"text-align: right;\">\n",
       "      <th></th>\n",
       "      <th>Years</th>\n",
       "      <th>Domain</th>\n",
       "      <th>GDP</th>\n",
       "    </tr>\n",
       "  </thead>\n",
       "  <tbody>\n",
       "    <tr>\n",
       "      <th>0</th>\n",
       "      <td>2010</td>\n",
       "      <td>Audio-Visual and Interactive Media</td>\n",
       "      <td>364299490</td>\n",
       "    </tr>\n",
       "    <tr>\n",
       "      <th>1</th>\n",
       "      <td>2011</td>\n",
       "      <td>Audio-Visual and Interactive Media</td>\n",
       "      <td>431327770</td>\n",
       "    </tr>\n",
       "    <tr>\n",
       "      <th>2</th>\n",
       "      <td>2012</td>\n",
       "      <td>Audio-Visual and Interactive Media</td>\n",
       "      <td>446032959</td>\n",
       "    </tr>\n",
       "    <tr>\n",
       "      <th>3</th>\n",
       "      <td>2013</td>\n",
       "      <td>Audio-Visual and Interactive Media</td>\n",
       "      <td>365077042</td>\n",
       "    </tr>\n",
       "    <tr>\n",
       "      <th>4</th>\n",
       "      <td>2014</td>\n",
       "      <td>Audio-Visual and Interactive Media</td>\n",
       "      <td>398413739</td>\n",
       "    </tr>\n",
       "  </tbody>\n",
       "</table>\n",
       "</div>"
      ],
      "text/plain": [
       "   Years                              Domain        GDP\n",
       "0   2010  Audio-Visual and Interactive Media  364299490\n",
       "1   2011  Audio-Visual and Interactive Media  431327770\n",
       "2   2012  Audio-Visual and Interactive Media  446032959\n",
       "3   2013  Audio-Visual and Interactive Media  365077042\n",
       "4   2014  Audio-Visual and Interactive Media  398413739"
      ]
     },
     "execution_count": 482,
     "metadata": {},
     "output_type": "execute_result"
    }
   ],
   "source": [
    "dataset = pd.read_csv(Path('./Resources/culture_year_gdp.csv'))\n",
    "dataset.head()\n"
   ]
  },
  {
   "cell_type": "code",
   "execution_count": 483,
   "id": "6c6b9b92",
   "metadata": {},
   "outputs": [
    {
     "data": {
      "text/html": [
       "<div>\n",
       "<style scoped>\n",
       "    .dataframe tbody tr th:only-of-type {\n",
       "        vertical-align: middle;\n",
       "    }\n",
       "\n",
       "    .dataframe tbody tr th {\n",
       "        vertical-align: top;\n",
       "    }\n",
       "\n",
       "    .dataframe thead th {\n",
       "        text-align: right;\n",
       "    }\n",
       "</style>\n",
       "<table border=\"1\" class=\"dataframe\">\n",
       "  <thead>\n",
       "    <tr style=\"text-align: right;\">\n",
       "      <th></th>\n",
       "      <th>Years</th>\n",
       "      <th>GDP</th>\n",
       "    </tr>\n",
       "  </thead>\n",
       "  <tbody>\n",
       "    <tr>\n",
       "      <th>0</th>\n",
       "      <td>2010</td>\n",
       "      <td>191075690</td>\n",
       "    </tr>\n",
       "    <tr>\n",
       "      <th>1</th>\n",
       "      <td>2011</td>\n",
       "      <td>209865471</td>\n",
       "    </tr>\n",
       "    <tr>\n",
       "      <th>2</th>\n",
       "      <td>2012</td>\n",
       "      <td>220195777</td>\n",
       "    </tr>\n",
       "    <tr>\n",
       "      <th>3</th>\n",
       "      <td>2013</td>\n",
       "      <td>196319109</td>\n",
       "    </tr>\n",
       "    <tr>\n",
       "      <th>4</th>\n",
       "      <td>2014</td>\n",
       "      <td>226864311</td>\n",
       "    </tr>\n",
       "    <tr>\n",
       "      <th>5</th>\n",
       "      <td>2015</td>\n",
       "      <td>236971117</td>\n",
       "    </tr>\n",
       "    <tr>\n",
       "      <th>6</th>\n",
       "      <td>2016</td>\n",
       "      <td>248549071</td>\n",
       "    </tr>\n",
       "    <tr>\n",
       "      <th>7</th>\n",
       "      <td>2017</td>\n",
       "      <td>253674752</td>\n",
       "    </tr>\n",
       "    <tr>\n",
       "      <th>8</th>\n",
       "      <td>2018</td>\n",
       "      <td>264583039</td>\n",
       "    </tr>\n",
       "    <tr>\n",
       "      <th>9</th>\n",
       "      <td>2019</td>\n",
       "      <td>270956248</td>\n",
       "    </tr>\n",
       "  </tbody>\n",
       "</table>\n",
       "</div>"
      ],
      "text/plain": [
       "   Years        GDP\n",
       "0   2010  191075690\n",
       "1   2011  209865471\n",
       "2   2012  220195777\n",
       "3   2013  196319109\n",
       "4   2014  226864311\n",
       "5   2015  236971117\n",
       "6   2016  248549071\n",
       "7   2017  253674752\n",
       "8   2018  264583039\n",
       "9   2019  270956248"
      ]
     },
     "execution_count": 483,
     "metadata": {},
     "output_type": "execute_result"
    }
   ],
   "source": [
    "dataset = dataset.loc[dataset.Domain =='Visual and Applied Arts']\n",
    "dataset = dataset.drop(['Domain'],axis=1)\n",
    "dataset=dataset.reset_index(drop=True)\n",
    "dataset"
   ]
  },
  {
   "cell_type": "code",
   "execution_count": 484,
   "id": "1df95ea0",
   "metadata": {},
   "outputs": [
    {
     "data": {
      "text/plain": [
       "(10, 2)"
      ]
     },
     "execution_count": 484,
     "metadata": {},
     "output_type": "execute_result"
    }
   ],
   "source": [
    "dataset.shape"
   ]
  },
  {
   "cell_type": "code",
   "execution_count": 485,
   "id": "633ee45b",
   "metadata": {
    "scrolled": true
   },
   "outputs": [
    {
     "data": {
      "text/html": [
       "<div>\n",
       "<style scoped>\n",
       "    .dataframe tbody tr th:only-of-type {\n",
       "        vertical-align: middle;\n",
       "    }\n",
       "\n",
       "    .dataframe tbody tr th {\n",
       "        vertical-align: top;\n",
       "    }\n",
       "\n",
       "    .dataframe thead th {\n",
       "        text-align: right;\n",
       "    }\n",
       "</style>\n",
       "<table border=\"1\" class=\"dataframe\">\n",
       "  <thead>\n",
       "    <tr style=\"text-align: right;\">\n",
       "      <th></th>\n",
       "      <th>Years</th>\n",
       "      <th>GDP</th>\n",
       "    </tr>\n",
       "  </thead>\n",
       "  <tbody>\n",
       "    <tr>\n",
       "      <th>count</th>\n",
       "      <td>10.00000</td>\n",
       "      <td>1.000000e+01</td>\n",
       "    </tr>\n",
       "    <tr>\n",
       "      <th>mean</th>\n",
       "      <td>2014.50000</td>\n",
       "      <td>2.319055e+08</td>\n",
       "    </tr>\n",
       "    <tr>\n",
       "      <th>std</th>\n",
       "      <td>3.02765</td>\n",
       "      <td>2.779111e+07</td>\n",
       "    </tr>\n",
       "    <tr>\n",
       "      <th>min</th>\n",
       "      <td>2010.00000</td>\n",
       "      <td>1.910757e+08</td>\n",
       "    </tr>\n",
       "    <tr>\n",
       "      <th>25%</th>\n",
       "      <td>2012.25000</td>\n",
       "      <td>2.124480e+08</td>\n",
       "    </tr>\n",
       "    <tr>\n",
       "      <th>50%</th>\n",
       "      <td>2014.50000</td>\n",
       "      <td>2.319177e+08</td>\n",
       "    </tr>\n",
       "    <tr>\n",
       "      <th>75%</th>\n",
       "      <td>2016.75000</td>\n",
       "      <td>2.523933e+08</td>\n",
       "    </tr>\n",
       "    <tr>\n",
       "      <th>max</th>\n",
       "      <td>2019.00000</td>\n",
       "      <td>2.709562e+08</td>\n",
       "    </tr>\n",
       "  </tbody>\n",
       "</table>\n",
       "</div>"
      ],
      "text/plain": [
       "            Years           GDP\n",
       "count    10.00000  1.000000e+01\n",
       "mean   2014.50000  2.319055e+08\n",
       "std       3.02765  2.779111e+07\n",
       "min    2010.00000  1.910757e+08\n",
       "25%    2012.25000  2.124480e+08\n",
       "50%    2014.50000  2.319177e+08\n",
       "75%    2016.75000  2.523933e+08\n",
       "max    2019.00000  2.709562e+08"
      ]
     },
     "execution_count": 485,
     "metadata": {},
     "output_type": "execute_result"
    }
   ],
   "source": [
    "dataset.describe()"
   ]
  },
  {
   "cell_type": "markdown",
   "id": "1b8d49f8",
   "metadata": {},
   "source": [
    "### Supervised Linear Regression"
   ]
  },
  {
   "cell_type": "code",
   "execution_count": 486,
   "id": "aa5bf084",
   "metadata": {},
   "outputs": [
    {
     "data": {
      "image/png": "[encoded data removed]",
      "text/plain": [
       "<Figure size 432x288 with 1 Axes>"
      ]
     },
     "metadata": {
      "needs_background": "light"
     },
     "output_type": "display_data"
    }
   ],
   "source": [
    "# plot data points on 2-D graph to see dataset and if we can find any relationship between the data. \n",
    "# The target variable is GDP, meaning that the goal of the linear regression model\n",
    "# is to predict GDP based on years of past GDP\n",
    "dataset.plot(x='Years', y='GDP', style='o')\n",
    "plt.title('Domain: Visual and Applied Arts - Years vs GDP')\n",
    "plt.xlabel('GDP Years')\n",
    "plt.ylabel('GDP Percentage')\n",
    "plt.show()\n"
   ]
  },
  {
   "cell_type": "code",
   "execution_count": 487,
   "id": "689bb7fa",
   "metadata": {},
   "outputs": [],
   "source": [
    "# Prepare data \n",
    "# divide the data into \"attributes\" and \"labels\"\n",
    "# Attributes are the independent variables, labels are dependent variables \n",
    "# whose values are to be predicted.\n",
    "# all the columns except the last one, which is in this case column 0, years\n",
    "X = dataset.iloc[:, :-1].values #this gives attribue: the years\n",
    "y = dataset.iloc[:, 1].values # this will be the labels -> gdp to be predicted\n"
   ]
  },
  {
   "cell_type": "code",
   "execution_count": 488,
   "id": "4b60a4ec",
   "metadata": {},
   "outputs": [
    {
     "data": {
      "text/plain": [
       "array([220195777, 264583039], dtype=int64)"
      ]
     },
     "execution_count": 488,
     "metadata": {},
     "output_type": "execute_result"
    }
   ],
   "source": [
    "# splits 80% of the data to training set while 20% of the data to test set. \n",
    "# The test_size variable specify the proportion of test set.\n",
    "X_train, X_test, y_train, y_test = train_test_split(X, y, test_size=0.2, random_state=0)\n",
    "y_test"
   ]
  },
  {
   "cell_type": "code",
   "execution_count": 489,
   "id": "d272d0e3",
   "metadata": {},
   "outputs": [
    {
     "data": {
      "text/plain": [
       "LinearRegression()"
      ]
     },
     "execution_count": 489,
     "metadata": {},
     "output_type": "execute_result"
    }
   ],
   "source": [
    "# Train the algorithm\n",
    "regressor = LinearRegression()\n",
    "regressor.fit(X_train, y_train)\n"
   ]
  },
  {
   "cell_type": "code",
   "execution_count": 490,
   "id": "9a5ab7a4",
   "metadata": {},
   "outputs": [],
   "source": [
    "# Create and train the model\n",
    "model = LinearRegression().fit(X_train, y_train)\n",
    "# Generate predictions\n",
    "y_pred = model.predict(X_test)"
   ]
  },
  {
   "cell_type": "code",
   "execution_count": 491,
   "id": "a9581880",
   "metadata": {},
   "outputs": [
    {
     "name": "stdout",
     "output_type": "stream",
     "text": [
      "Training Score: 0.8994089459737954\n",
      "Testing Score: 0.8413684765306174\n",
      "---------------------\n",
      "R2 Score: 0.8413684765306174\n"
     ]
    }
   ],
   "source": [
    "#  Score Data\n",
    "# If the value of the r squared score is 1, it means that the model is perfect and if its value is 0,\n",
    "# it means that the model will perform badly on an unseen dataset\n",
    "\n",
    "training_score = model.score(X_train, y_train)\n",
    "testing_score = model.score(X_test, y_test)\n",
    "\n",
    "score = r2_score(y_test, y_pred)\n",
    "\n",
    "print(f\"Training Score: {training_score}\")\n",
    "print(f\"Testing Score: {testing_score}\")\n",
    "print('---------------------')\n",
    "print(f\"R2 Score: {score}\")\n",
    "\n",
    "# Rows of data 10 rows of \n",
    "# Repost: Training set 89% accuracy \n",
    "# Testing Score 84% \n",
    "# Given the linear regression model the machine is predicting at an accuracy of 84% \n",
    "# Mean square error is extrememly high and my accuracy are above 80% \n",
    "# My model overfitting my data set meaning that the computer or machine is memorizing the trend and not actually learning\n"
   ]
  },
  {
   "cell_type": "code",
   "execution_count": 492,
   "id": "3e084c2b",
   "metadata": {},
   "outputs": [
    {
     "name": "stdout",
     "output_type": "stream",
     "text": [
      "intercept:  -17803.213192\n",
      "slope:  [8.951907]\n"
     ]
    }
   ],
   "source": [
    "# To retrieve the intercept:\n",
    "print(\"intercept: \", regressor.intercept_/1000000)\n",
    "\n",
    "# For retrieving the slope (coefficient of x):\n",
    "print(\"slope: \", regressor.coef_/1000000)\n",
    "\n",
    "# y = gdp\n",
    "# x = year\n",
    "\n",
    "# y = 8.9x -17803.21\n",
    "\n",
    "# gdp = 8.9 * year - 17803.21\n"
   ]
  },
  {
   "cell_type": "code",
   "execution_count": 493,
   "id": "0ecb2020",
   "metadata": {},
   "outputs": [
    {
     "data": {
      "text/plain": [
       "array([2.08023692e+08, 2.61735134e+08])"
      ]
     },
     "execution_count": 493,
     "metadata": {},
     "output_type": "execute_result"
    }
   ],
   "source": [
    "# making predictions\n",
    "y_pred = regressor.predict(X_test)\n",
    "y_pred #contains all the predicted values for the input values in the X_test series."
   ]
  },
  {
   "cell_type": "code",
   "execution_count": 494,
   "id": "345c13eb",
   "metadata": {},
   "outputs": [
    {
     "data": {
      "text/html": [
       "<div>\n",
       "<style scoped>\n",
       "    .dataframe tbody tr th:only-of-type {\n",
       "        vertical-align: middle;\n",
       "    }\n",
       "\n",
       "    .dataframe tbody tr th {\n",
       "        vertical-align: top;\n",
       "    }\n",
       "\n",
       "    .dataframe thead th {\n",
       "        text-align: right;\n",
       "    }\n",
       "</style>\n",
       "<table border=\"1\" class=\"dataframe\">\n",
       "  <thead>\n",
       "    <tr style=\"text-align: right;\">\n",
       "      <th></th>\n",
       "      <th>GDP Actual</th>\n",
       "      <th>GDP Predicted</th>\n",
       "    </tr>\n",
       "  </thead>\n",
       "  <tbody>\n",
       "    <tr>\n",
       "      <th>0</th>\n",
       "      <td>22.019578</td>\n",
       "      <td>20.802369</td>\n",
       "    </tr>\n",
       "    <tr>\n",
       "      <th>1</th>\n",
       "      <td>26.458304</td>\n",
       "      <td>26.173513</td>\n",
       "    </tr>\n",
       "  </tbody>\n",
       "</table>\n",
       "</div>"
      ],
      "text/plain": [
       "   GDP Actual  GDP Predicted\n",
       "0   22.019578      20.802369\n",
       "1   26.458304      26.173513"
      ]
     },
     "execution_count": 494,
     "metadata": {},
     "output_type": "execute_result"
    }
   ],
   "source": [
    "# To compare the actual output values for X_test with the predicted values\n",
    "df = pd.DataFrame({'GDP Actual': y_test/10000000, 'GDP Predicted': y_pred/10000000})\n",
    "df\n",
    "# the predicted percentages are close to the actual ones."
   ]
  },
  {
   "cell_type": "code",
   "execution_count": 495,
   "id": "69733b68",
   "metadata": {},
   "outputs": [
    {
     "name": "stdout",
     "output_type": "stream",
     "text": [
      "Mean Absolute Error: 7.509995\n",
      "Mean Squared Error: 78135108.068125\n",
      "Root Mean Squared Error: 8.839406545019015\n"
     ]
    }
   ],
   "source": [
    "# evaluate the performance of algorithm\n",
    "# for regression algorithms, do the three evaluation metrics \n",
    "print('Mean Absolute Error:', metrics.mean_absolute_error(y_test, y_pred)/1000000)\n",
    "print('Mean Squared Error:', metrics.mean_squared_error(y_test, y_pred)/1000000)\n",
    "print('Root Mean Squared Error:', np.sqrt(metrics.mean_squared_error(y_test, y_pred))/1000000)\n"
   ]
  },
  {
   "cell_type": "code",
   "execution_count": 496,
   "id": "74d44950",
   "metadata": {
    "scrolled": true
   },
   "outputs": [
    {
     "data": {
      "text/plain": [
       "Years      0.002014\n",
       "GDP      231.905459\n",
       "dtype: float64"
      ]
     },
     "execution_count": 496,
     "metadata": {},
     "output_type": "execute_result"
    }
   ],
   "source": [
    "# find the mean of the dataset to compare to the mean squared error\n",
    "dataset.mean()/1000000"
   ]
  },
  {
   "cell_type": "code",
   "execution_count": 497,
   "id": "86a5313e",
   "metadata": {},
   "outputs": [
    {
     "data": {
      "text/plain": [
       "3.8076757222940922"
      ]
     },
     "execution_count": 497,
     "metadata": {},
     "output_type": "execute_result"
    }
   ],
   "source": [
    "# the value of root mean squared error is 8.83, which is less than 4% of the mean \n",
    "# value of the percentages of all the GDP's 231.9. This means that the algorithm did a decent job\n",
    "root_mean_squared_error = 8.83\n",
    "mean_of_gdp = 231.9\n",
    "percentage_of_mean_squared_error =  root_mean_squared_error* 100 / mean_of_gdp\n",
    "percentage_of_mean_squared_error"
   ]
  },
  {
   "cell_type": "code",
   "execution_count": 499,
   "id": "46eaba46",
   "metadata": {
    "scrolled": true
   },
   "outputs": [],
   "source": [
    "cm = pd.crosstab(df[\"GDP Actual\"], df[\"GDP Predicted\"], rownames=[\"Actual\"])\n",
    "# sn.heatmap(cm, annot=True)\n",
    "# plt.show()"
   ]
  },
  {
   "cell_type": "code",
   "execution_count": 500,
   "id": "635f8462",
   "metadata": {},
   "outputs": [
    {
     "data": {
      "image/png": "[encoded data removed]",
      "text/plain": [
       "<Figure size 432x288 with 2 Axes>"
      ]
     },
     "metadata": {
      "needs_background": "light"
     },
     "output_type": "display_data"
    }
   ],
   "source": [
    "ax = sn.heatmap(cm/np.sum(cm), annot=True, \n",
    "            fmt='.2%', cmap='Blues')\n",
    "\n",
    "ax.set_title('Seaborn Confusion Matrix with labels\\n\\n');\n",
    "ax.set_xlabel('\\nPredicted Values')\n",
    "ax.set_ylabel('Actual Values ');\n",
    "\n",
    "## Display the visualization of the Confusion Matrix.\n",
    "plt.show()"
   ]
  },
  {
   "cell_type": "markdown",
   "id": "9b7e22da",
   "metadata": {},
   "source": [
    "# save the model to disk"
   ]
  },
  {
   "cell_type": "code",
   "execution_count": 466,
   "id": "12e99c09",
   "metadata": {},
   "outputs": [],
   "source": [
    "import pickle\n",
    "filename = 'culture_regression_model.sav'\n",
    "pickle.dump(model, open(filename, 'wb'))\n",
    "# scaler\n",
    "filename = 'culture_regression_model_scaler.sav'\n",
    "pickle.dump(scaler, open(filename, 'wb'))\n",
    "\n",
    "# load the model from disk if we want to use it,load and loaded_model functions\n",
    "# loaded_model = pickle.load(open(filename, 'rb'))\n",
    "# result = loaded_model.score(X_test, Y_test)\n",
    "# print(result)"
   ]
  },
  {
   "cell_type": "markdown",
   "id": "57c8d67d",
   "metadata": {},
   "source": [
    "## RANDOM FOREST"
   ]
  },
  {
   "cell_type": "code",
   "execution_count": 467,
   "id": "91d953dd",
   "metadata": {},
   "outputs": [],
   "source": [
    "# Splitting into Train and Test sets.\n",
    "X_train, X_test, y_train, y_test = train_test_split(X, y)\n"
   ]
  },
  {
   "cell_type": "code",
   "execution_count": 468,
   "id": "2a96afca",
   "metadata": {},
   "outputs": [],
   "source": [
    "# Creating a StandardScaler instance.\n",
    "scaler = StandardScaler()\n",
    "# Fitting the Standard Scaler with the training data.\n",
    "X_scaler = scaler.fit(X_train)\n",
    "\n",
    "# Scaling the data.\n",
    "X_train_scaled = X_scaler.transform(X_train)\n",
    "X_test_scaled = X_scaler.transform(X_test)"
   ]
  },
  {
   "cell_type": "code",
   "execution_count": 469,
   "id": "d87cab51",
   "metadata": {},
   "outputs": [],
   "source": [
    "# Create a random forest classifier.\n",
    "rf_model = RandomForestClassifier(random_state=78) "
   ]
  },
  {
   "cell_type": "code",
   "execution_count": 470,
   "id": "cab58734",
   "metadata": {},
   "outputs": [
    {
     "data": {
      "text/plain": [
       "RandomForestClassifier(random_state=78)"
      ]
     },
     "execution_count": 470,
     "metadata": {},
     "output_type": "execute_result"
    }
   ],
   "source": [
    "# Fitting the model\n",
    "rf_model = rf_model.fit(X_train, y_train)\n",
    "rf_model"
   ]
  },
  {
   "cell_type": "code",
   "execution_count": 471,
   "id": "947be9a8",
   "metadata": {},
   "outputs": [
    {
     "name": "stdout",
     "output_type": "stream",
     "text": [
      "Training Score: 1.0\n",
      "Testing Score: 0.0\n",
      "---------------------\n"
     ]
    }
   ],
   "source": [
    "#  Score Data\n",
    "training_score = rf_model.score(X_train, y_train)\n",
    "testing_score = rf_model.score(X_test, y_test)\n",
    "# score = r2_score(y_test, y_pred)\n",
    "print(f\"Training Score: {training_score}\")\n",
    "print(f\"Testing Score: {testing_score}\")\n",
    "print('---------------------')\n",
    "# print(f\"R2 Score: {score}\")\n",
    "\n",
    "# underfitting \n",
    "# doing well on the training set but \n",
    "# testing data for r2 score performs extremely bad a 0% accuracy "
   ]
  },
  {
   "cell_type": "code",
   "execution_count": 472,
   "id": "b7757c5b",
   "metadata": {},
   "outputs": [
    {
     "data": {
      "text/plain": [
       "array([270956248, 191075690, 226864311], dtype=int64)"
      ]
     },
     "execution_count": 472,
     "metadata": {},
     "output_type": "execute_result"
    }
   ],
   "source": [
    "y_test"
   ]
  },
  {
   "cell_type": "code",
   "execution_count": 473,
   "id": "bf90ac24",
   "metadata": {},
   "outputs": [
    {
     "data": {
      "text/plain": [
       "array([209865471, 209865471, 209865471], dtype=int64)"
      ]
     },
     "execution_count": 473,
     "metadata": {},
     "output_type": "execute_result"
    }
   ],
   "source": [
    "# Making predictions using the testing data.\n",
    "predictions = rf_model.predict(X_test_scaled)\n",
    "predictions"
   ]
  },
  {
   "cell_type": "markdown",
   "id": "c4ced819",
   "metadata": {},
   "source": [
    "## random forest prediction-ytest values are off so much-doesn't work"
   ]
  },
  {
   "cell_type": "code",
   "execution_count": 474,
   "id": "95b18da2",
   "metadata": {},
   "outputs": [
    {
     "data": {
      "text/plain": [
       "array([[0, 1, 0, 0],\n",
       "       [0, 0, 0, 0],\n",
       "       [0, 1, 0, 0],\n",
       "       [0, 1, 0, 0]], dtype=int64)"
      ]
     },
     "execution_count": 474,
     "metadata": {},
     "output_type": "execute_result"
    }
   ],
   "source": [
    "# Calculating the confusion matrix.\n",
    "cm = confusion_matrix(y_test, predictions)\n",
    "cm"
   ]
  },
  {
   "cell_type": "code",
   "execution_count": 475,
   "id": "c910a7fd",
   "metadata": {},
   "outputs": [],
   "source": [
    "# Create a DataFrame from the confusion matrix.\n",
    "# cm_df = pd.DataFrame(cm, index=[\"Actual 0\", \"Actual 1\"], columns=[\"Predicted 0\", \"Predicted 1\"])\n",
    "# cm_df"
   ]
  },
  {
   "cell_type": "code",
   "execution_count": 476,
   "id": "6cd27f58",
   "metadata": {},
   "outputs": [
    {
     "data": {
      "text/plain": [
       "0.0"
      ]
     },
     "execution_count": 476,
     "metadata": {},
     "output_type": "execute_result"
    }
   ],
   "source": [
    "# Calculating the accuracy score.\n",
    "# gives zero accuracy score - can't use random forest\n",
    "acc_score = accuracy_score(y_test, predictions)\n",
    "acc_score"
   ]
  },
  {
   "cell_type": "markdown",
   "id": "2a0fce74",
   "metadata": {},
   "source": [
    "### ytest, prediction graph  showing actual and prediction plot "
   ]
  },
  {
   "cell_type": "code",
   "execution_count": 477,
   "id": "aea96e1b",
   "metadata": {
    "scrolled": true
   },
   "outputs": [],
   "source": [
    "dfp = pd.DataFrame({ \"actual\": y_test, \"predictions\": predictions })\n",
    "cm = pd.crosstab(dfp[\"actual\"], dfp[\"predictions\"], rownames=[\"Actual\"])\n",
    "# sn.heatmap(cm, annot=True)\n",
    "# plt.show()"
   ]
  },
  {
   "cell_type": "code",
   "execution_count": 478,
   "id": "55d315e1",
   "metadata": {},
   "outputs": [
    {
     "data": {
      "image/png": "[encoded data removed]",
      "text/plain": [
       "<Figure size 432x288 with 2 Axes>"
      ]
     },
     "metadata": {
      "needs_background": "light"
     },
     "output_type": "display_data"
    }
   ],
   "source": [
    "ax = sn.heatmap(cm/np.sum(cm), annot=True, \n",
    "            fmt='.2%', cmap='Blues')\n",
    "\n",
    "ax.set_title('Seaborn Confusion Matrix with labels\\n\\n');\n",
    "ax.set_xlabel('\\nPredicted Values')\n",
    "ax.set_ylabel('Actual Values ');\n",
    "\n",
    "## Display the visualization of the Confusion Matrix.\n",
    "plt.show()"
   ]
  },
  {
   "cell_type": "code",
   "execution_count": null,
   "id": "6960f8a0",
   "metadata": {},
   "outputs": [],
   "source": []
  }
 ],
 "metadata": {
  "kernelspec": {
   "display_name": "mlenv",
   "language": "python",
   "name": "mlenv"
  },
  "language_info": {
   "codemirror_mode": {
    "name": "ipython",
    "version": 3
   },
   "file_extension": ".py",
   "mimetype": "text/x-python",
   "name": "python",
   "nbconvert_exporter": "python",
   "pygments_lexer": "ipython3",
   "version": "3.9.7"
  }
 },
 "nbformat": 4,
 "nbformat_minor": 5
}
